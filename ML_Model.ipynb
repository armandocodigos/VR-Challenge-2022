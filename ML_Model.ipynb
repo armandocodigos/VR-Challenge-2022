{
 "cells": [
  {
   "cell_type": "code",
   "execution_count": 1,
   "id": "3031f3ae-2cc8-46ad-ba06-2a21a94e13a1",
   "metadata": {},
   "outputs": [],
   "source": [
    "import csv\n",
    "dataset_extended = {'relax': {'x':[], 'y':[]},\n",
    "                    'cognit':{'x':[], 'y':[]},\n",
    "                    'emotio':{'x':[], 'y':[]}}\n",
    "\n",
    "for variable_name in ['relax', 'cognit', 'emotio']:\n",
    "    with open('training_samples_'+variable_name+'.csv', newline='\\n') as csvfile:\n",
    "        reader_f = csv.reader(csvfile, delimiter=',', quotechar='|')\n",
    "        for row in reader_f:\n",
    "            dataset_extended[variable_name]['x'].append(row)\n",
    "            dataset_extended[variable_name]['y'].append([variable_name])"
   ]
  },
  {
   "cell_type": "code",
   "execution_count": 2,
   "id": "c20e5c5d-87cb-4efe-aff6-d8c12a07940c",
   "metadata": {},
   "outputs": [],
   "source": [
    "from sklearn import datasets\n",
    "from sklearn.metrics import confusion_matrix\n",
    "from sklearn.model_selection import train_test_split"
   ]
  },
  {
   "cell_type": "code",
   "execution_count": 3,
   "id": "0e7a55d4-2a45-48c6-a3c0-71182644fd9d",
   "metadata": {},
   "outputs": [
    {
     "name": "stdout",
     "output_type": "stream",
     "text": [
      "relax 2250 750 2250 750\n",
      "cognit 2250 750 2250 750\n",
      "emotio 2250 750 2250 750\n"
     ]
    }
   ],
   "source": [
    "dataset_splitted = {'relax': {'x_train':[], 'x_test':[], 'y_train':[], 'y_test':[]},\n",
    "                    'cognit':{'x_train':[], 'x_test':[], 'y_train':[], 'y_test':[]},\n",
    "                    'emotio':{'x_train':[], 'x_test':[], 'y_train':[], 'y_test':[]}}\n",
    "\n",
    "for name in ['relax', 'cognit', 'emotio']:\n",
    "    x_train, x_test, y_train, y_test = train_test_split(dataset_extended[name]['x'], dataset_extended[name]['y'], random_state = 0)\n",
    "    dataset_splitted[name]['x_train'] = x_train\n",
    "    dataset_splitted[name]['x_test'] = x_test\n",
    "    dataset_splitted[name]['y_train'] = y_train\n",
    "    dataset_splitted[name]['y_test'] = y_test\n",
    "    print(name,len(x_train),len(x_test),len(y_train),len(y_test))"
   ]
  },
  {
   "cell_type": "code",
   "execution_count": 4,
   "id": "d18c527f-812b-4d66-8054-5ccc1712a782",
   "metadata": {},
   "outputs": [
    {
     "name": "stdout",
     "output_type": "stream",
     "text": [
      "Full: 6750 2250 6750 2250\n"
     ]
    }
   ],
   "source": [
    "import numpy as np\n",
    "\n",
    "x_train = []\n",
    "x_test = []\n",
    "y_train = []\n",
    "y_test = []\n",
    "for name in ['relax', 'cognit', 'emotio']:\n",
    "    np.random.shuffle(dataset_splitted[name]['x_train'])\n",
    "    x_train = x_train + dataset_splitted[name]['x_train']\n",
    "    np.random.shuffle(dataset_splitted[name]['x_test'])\n",
    "    x_test = x_test + dataset_splitted[name]['x_test']\n",
    "    np.random.shuffle(dataset_splitted[name]['y_train'])\n",
    "    y_train = y_train + dataset_splitted[name]['y_train']\n",
    "    np.random.shuffle(dataset_splitted[name]['y_test'])\n",
    "    y_test = y_test + dataset_splitted[name]['y_test']\n",
    "print('Full:',len(x_train),len(x_test),len(y_train),len(y_test))"
   ]
  },
  {
   "cell_type": "code",
   "execution_count": 5,
   "id": "df3a93b3-02f8-4b7f-98b5-1508d89217a8",
   "metadata": {},
   "outputs": [],
   "source": [
    "x_train = np.array(x_train)\n",
    "x_test = np.array(x_test)\n",
    "y_train = np.array(y_train)\n",
    "y_test = np.array(y_test)"
   ]
  },
  {
   "cell_type": "code",
   "execution_count": 6,
   "id": "a5f4c923-06d6-4391-bb78-723e0ff46bfd",
   "metadata": {},
   "outputs": [],
   "source": [
    "import matplotlib.pyplot as plt\n",
    "from sklearn.tree import DecisionTreeClassifier\n",
    "from sklearn.metrics import plot_confusion_matrix\n",
    "\n",
    "def train_tree(x_train, x_test, y_train, y_test):\n",
    "    dtree_model = DecisionTreeClassifier(max_depth = 10).fit(x_train, y_train)\n",
    "    dtree_predictions = dtree_model.predict(x_test)\n",
    "    \n",
    "    cm = confusion_matrix(y_test, dtree_predictions)\n",
    "    accuracies = cm.diagonal()/cm.sum(axis=1)\n",
    "    return dtree_model, accuracies"
   ]
  },
  {
   "cell_type": "code",
   "execution_count": 7,
   "id": "9866ded0-6457-48cc-bacf-301549bd9ddd",
   "metadata": {},
   "outputs": [],
   "source": [
    "import warnings\n",
    "warnings.filterwarnings(\"ignore\")"
   ]
  },
  {
   "cell_type": "code",
   "execution_count": 15,
   "id": "44fcd3cd-ea05-4490-8780-1e3c726843e1",
   "metadata": {},
   "outputs": [],
   "source": [
    "def find_tree(goal):\n",
    "    attempts = 0\n",
    "    accuracies = [0]\n",
    "    dtree_model = None\n",
    "    while(np.mean(accuracies) < goal):\n",
    "        attempts += 1\n",
    "        dtree_model, accuracies = train_tree(x_train, x_test, y_train, y_test)\n",
    "        if (attempts%25==0):\n",
    "            print('Attempts:',attempts)\n",
    "    print('Total attempts:',attempts)\n",
    "    \n",
    "    # Print accuracies\n",
    "    for acc, class_name in zip(accuracies,['relax', 'cognit', 'emotio']):\n",
    "        print('Accuracy for class {} is {:0.2f}%'.format(class_name,acc))\n",
    "    # Print confusion matrix\n",
    "    plot_confusion_matrix(dtree_model, x_test, y_test)\n",
    "    plt.show();\n",
    "    return dtree_model"
   ]
  },
  {
   "cell_type": "code",
   "execution_count": 16,
   "id": "b2fa139e-7668-4bf4-8749-b757c96d98af",
   "metadata": {},
   "outputs": [
    {
     "name": "stdout",
     "output_type": "stream",
     "text": [
      "Total attempts: 19\n",
      "Accuracy for class relax is 0.66%\n",
      "Accuracy for class cognit is 0.61%\n",
      "Accuracy for class emotio is 0.80%\n"
     ]
    },
    {
     "data": {
      "image/png": "[encoded data removed]",
      "text/plain": [
       "<Figure size 640x480 with 2 Axes>"
      ]
     },
     "metadata": {},
     "output_type": "display_data"
    }
   ],
   "source": [
    "dtree_model = find_tree(0.69)"
   ]
  },
  {
   "cell_type": "code",
   "execution_count": 18,
   "id": "3eabbcf6-895d-418f-b0c9-0e8016391502",
   "metadata": {},
   "outputs": [],
   "source": [
    "import pickle\n",
    "filename = 'finalized_model_tree.sav'\n",
    "pickle.dump(dtree_model, open(filename, 'wb'))"
   ]
  },
  {
   "cell_type": "code",
   "execution_count": null,
   "id": "ad3996f1-b264-4cfd-b80a-8a1025b35891",
   "metadata": {},
   "outputs": [],
   "source": []
  }
 ],
 "metadata": {
  "kernelspec": {
   "display_name": "Python 3 (ipykernel)",
   "language": "python",
   "name": "python3"
  },
  "language_info": {
   "codemirror_mode": {
    "name": "ipython",
    "version": 3
   },
   "file_extension": ".py",
   "mimetype": "text/x-python",
   "name": "python",
   "nbconvert_exporter": "python",
   "pygments_lexer": "ipython3",
   "version": "3.9.13"
  }
 },
 "nbformat": 4,
 "nbformat_minor": 5
}
