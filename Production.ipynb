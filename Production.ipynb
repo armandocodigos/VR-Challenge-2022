{
 "cells": [
  {
   "cell_type": "code",
   "execution_count": 1,
   "id": "193fae2c-bd4f-4371-8b67-7665d4c3d86c",
   "metadata": {},
   "outputs": [],
   "source": [
    "import pickle\n",
    "import numpy as np"
   ]
  },
  {
   "cell_type": "code",
   "execution_count": 2,
   "id": "2063a065-2696-45db-8b59-15222648aff4",
   "metadata": {},
   "outputs": [
    {
     "name": "stdout",
     "output_type": "stream",
     "text": [
      "cognit\n"
     ]
    }
   ],
   "source": [
    "#from sklearn.tree import DecisionTreeClassifier\n",
    "\n",
    "filename = 'finalized_model_tree.sav'\n",
    "loaded_model = pickle.load(open(filename, 'rb'))\n",
    "unseen = [75.5002, 75.6335, 75.7835, 75.9335, 76.0835, 76.1835, \n",
    "          76.2502, 76.2835, 76.2668, 76.2335, 76.1668, 76.1002, \n",
    "          76.0501, 75.9501, 75.8668, 75.8001, 75.7335, 75.7002, \n",
    "          75.7168, 75.8168, 75.9335, 76.0335, 76.1335, 76.2335, \n",
    "          76.3668, 76.4835, 76.6335, 76.7835, 76.8835, 76.9335]\n",
    "unseen = np.array(unseen).reshape(1, -1)\n",
    "prediction = loaded_model.predict(unseen)\n",
    "print(prediction[0])"
   ]
  },
  {
   "cell_type": "code",
   "execution_count": 11,
   "id": "fea17999-1f86-4bf2-bd4d-ca302371c187",
   "metadata": {},
   "outputs": [
    {
     "name": "stdout",
     "output_type": "stream",
     "text": [
      "Time:  0:00:00.000503\n"
     ]
    }
   ],
   "source": [
    "from datetime import datetime\n",
    "start = datetime.now()\n",
    "# start\n",
    "loaded_model.predict(unseen)   \n",
    "# finish\n",
    "end = datetime.now()\n",
    "time_taken = end - start\n",
    "print('Time: ',time_taken)"
   ]
  },
  {
   "cell_type": "code",
   "execution_count": null,
   "id": "64ffec9e-1b4f-411a-b779-eb54b9acb0a8",
   "metadata": {},
   "outputs": [],
   "source": []
  }
 ],
 "metadata": {
  "kernelspec": {
   "display_name": "Python 3 (ipykernel)",
   "language": "python",
   "name": "python3"
  },
  "language_info": {
   "codemirror_mode": {
    "name": "ipython",
    "version": 3
   },
   "file_extension": ".py",
   "mimetype": "text/x-python",
   "name": "python",
   "nbconvert_exporter": "python",
   "pygments_lexer": "ipython3",
   "version": "3.9.13"
  }
 },
 "nbformat": 4,
 "nbformat_minor": 5
}
